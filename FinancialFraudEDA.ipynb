{
 "cells": [
  {
   "cell_type": "markdown",
   "metadata": {},
   "source": [
    "**EDA**\n",
    "\n",
    "Banks and Financial Services are responsible in preventing financial fraud. \n",
    "\n",
    "Financial fraud occurs only about 0.13% of total transaction. But when it does occurs, it may cause a huge amount of loss.\n",
    "\n",
    "Detecting financial fraud might cause a lot of work if it's done manually, considering there are massive amount of transaction happens every day. Therefore, we need machine learning in order to solve this problem elegantly.\n",
    "\n",
    "**EDA Conclusion**\n",
    "\n",
    "- Fraud occurs in 0.13% of every types of transaction\n",
    "\n",
    "\n",
    "- Transfer and Cashing Out, are types of transaction with possible financial fraud\n",
    "    - Fraud occurs in 0.77% of every Transfer Transaction\n",
    "    - Fraud occurs in 0.18% of every Cashing Transaction\n",
    "\n",
    "\n",
    "- Cashing In, Debit, and Payment are very unlikely to be linked with financial fraud"
   ]
  },
  {
   "cell_type": "code",
   "execution_count": 22,
   "metadata": {},
   "outputs": [],
   "source": [
    "import pandas as pd\n",
    "import numpy as np\n",
    "import matplotlib.pyplot as plt\n",
    "import seaborn as sns\n",
    "import warnings\n",
    "warnings.filterwarnings('ignore')\n",
    "\n",
    "%matplotlib inline"
   ]
  },
  {
   "cell_type": "code",
   "execution_count": 23,
   "metadata": {},
   "outputs": [
    {
     "data": {
      "text/html": [
       "<div>\n",
       "<style scoped>\n",
       "    .dataframe tbody tr th:only-of-type {\n",
       "        vertical-align: middle;\n",
       "    }\n",
       "\n",
       "    .dataframe tbody tr th {\n",
       "        vertical-align: top;\n",
       "    }\n",
       "\n",
       "    .dataframe thead th {\n",
       "        text-align: right;\n",
       "    }\n",
       "</style>\n",
       "<table border=\"1\" class=\"dataframe\">\n",
       "  <thead>\n",
       "    <tr style=\"text-align: right;\">\n",
       "      <th></th>\n",
       "      <th>step</th>\n",
       "      <th>type</th>\n",
       "      <th>amount</th>\n",
       "      <th>nameOrig</th>\n",
       "      <th>oldbalanceOrg</th>\n",
       "      <th>newbalanceOrig</th>\n",
       "      <th>nameDest</th>\n",
       "      <th>oldbalanceDest</th>\n",
       "      <th>newbalanceDest</th>\n",
       "      <th>isFraud</th>\n",
       "      <th>isFlaggedFraud</th>\n",
       "    </tr>\n",
       "  </thead>\n",
       "  <tbody>\n",
       "    <tr>\n",
       "      <th>0</th>\n",
       "      <td>1</td>\n",
       "      <td>PAYMENT</td>\n",
       "      <td>9839.64</td>\n",
       "      <td>C1231006815</td>\n",
       "      <td>170136.0</td>\n",
       "      <td>160296.36</td>\n",
       "      <td>M1979787155</td>\n",
       "      <td>0.0</td>\n",
       "      <td>0.0</td>\n",
       "      <td>0</td>\n",
       "      <td>0</td>\n",
       "    </tr>\n",
       "    <tr>\n",
       "      <th>1</th>\n",
       "      <td>1</td>\n",
       "      <td>PAYMENT</td>\n",
       "      <td>1864.28</td>\n",
       "      <td>C1666544295</td>\n",
       "      <td>21249.0</td>\n",
       "      <td>19384.72</td>\n",
       "      <td>M2044282225</td>\n",
       "      <td>0.0</td>\n",
       "      <td>0.0</td>\n",
       "      <td>0</td>\n",
       "      <td>0</td>\n",
       "    </tr>\n",
       "    <tr>\n",
       "      <th>2</th>\n",
       "      <td>1</td>\n",
       "      <td>TRANSFER</td>\n",
       "      <td>181.00</td>\n",
       "      <td>C1305486145</td>\n",
       "      <td>181.0</td>\n",
       "      <td>0.00</td>\n",
       "      <td>C553264065</td>\n",
       "      <td>0.0</td>\n",
       "      <td>0.0</td>\n",
       "      <td>1</td>\n",
       "      <td>0</td>\n",
       "    </tr>\n",
       "    <tr>\n",
       "      <th>3</th>\n",
       "      <td>1</td>\n",
       "      <td>CASH_OUT</td>\n",
       "      <td>181.00</td>\n",
       "      <td>C840083671</td>\n",
       "      <td>181.0</td>\n",
       "      <td>0.00</td>\n",
       "      <td>C38997010</td>\n",
       "      <td>21182.0</td>\n",
       "      <td>0.0</td>\n",
       "      <td>1</td>\n",
       "      <td>0</td>\n",
       "    </tr>\n",
       "    <tr>\n",
       "      <th>4</th>\n",
       "      <td>1</td>\n",
       "      <td>PAYMENT</td>\n",
       "      <td>11668.14</td>\n",
       "      <td>C2048537720</td>\n",
       "      <td>41554.0</td>\n",
       "      <td>29885.86</td>\n",
       "      <td>M1230701703</td>\n",
       "      <td>0.0</td>\n",
       "      <td>0.0</td>\n",
       "      <td>0</td>\n",
       "      <td>0</td>\n",
       "    </tr>\n",
       "  </tbody>\n",
       "</table>\n",
       "</div>"
      ],
      "text/plain": [
       "   step      type    amount     nameOrig  oldbalanceOrg  newbalanceOrig  \\\n",
       "0     1   PAYMENT   9839.64  C1231006815       170136.0       160296.36   \n",
       "1     1   PAYMENT   1864.28  C1666544295        21249.0        19384.72   \n",
       "2     1  TRANSFER    181.00  C1305486145          181.0            0.00   \n",
       "3     1  CASH_OUT    181.00   C840083671          181.0            0.00   \n",
       "4     1   PAYMENT  11668.14  C2048537720        41554.0        29885.86   \n",
       "\n",
       "      nameDest  oldbalanceDest  newbalanceDest  isFraud  isFlaggedFraud  \n",
       "0  M1979787155             0.0             0.0        0               0  \n",
       "1  M2044282225             0.0             0.0        0               0  \n",
       "2   C553264065             0.0             0.0        1               0  \n",
       "3    C38997010         21182.0             0.0        1               0  \n",
       "4  M1230701703             0.0             0.0        0               0  "
      ]
     },
     "execution_count": 23,
     "metadata": {},
     "output_type": "execute_result"
    }
   ],
   "source": [
    "df = pd.read_csv('financial_fraud_detection.csv')\n",
    "df.head()"
   ]
  },
  {
   "cell_type": "code",
   "execution_count": 24,
   "metadata": {},
   "outputs": [
    {
     "name": "stdout",
     "output_type": "stream",
     "text": [
      "<class 'pandas.core.frame.DataFrame'>\n",
      "RangeIndex: 6362620 entries, 0 to 6362619\n",
      "Data columns (total 11 columns):\n",
      " #   Column          Dtype  \n",
      "---  ------          -----  \n",
      " 0   step            int64  \n",
      " 1   type            object \n",
      " 2   amount          float64\n",
      " 3   nameOrig        object \n",
      " 4   oldbalanceOrg   float64\n",
      " 5   newbalanceOrig  float64\n",
      " 6   nameDest        object \n",
      " 7   oldbalanceDest  float64\n",
      " 8   newbalanceDest  float64\n",
      " 9   isFraud         int64  \n",
      " 10  isFlaggedFraud  int64  \n",
      "dtypes: float64(5), int64(3), object(3)\n",
      "memory usage: 534.0+ MB\n"
     ]
    }
   ],
   "source": [
    "df.info()"
   ]
  },
  {
   "cell_type": "code",
   "execution_count": 25,
   "metadata": {},
   "outputs": [
    {
     "data": {
      "text/plain": [
       "step              0\n",
       "type              0\n",
       "amount            0\n",
       "nameOrig          0\n",
       "oldbalanceOrg     0\n",
       "newbalanceOrig    0\n",
       "nameDest          0\n",
       "oldbalanceDest    0\n",
       "newbalanceDest    0\n",
       "isFraud           0\n",
       "isFlaggedFraud    0\n",
       "dtype: int64"
      ]
     },
     "execution_count": 25,
     "metadata": {},
     "output_type": "execute_result"
    }
   ],
   "source": [
    "df.isna().sum()"
   ]
  },
  {
   "cell_type": "code",
   "execution_count": 26,
   "metadata": {},
   "outputs": [
    {
     "data": {
      "text/plain": [
       "step                  743\n",
       "type                    5\n",
       "amount            5316900\n",
       "nameOrig          6353307\n",
       "oldbalanceOrg     1845844\n",
       "newbalanceOrig    2682586\n",
       "nameDest          2722362\n",
       "oldbalanceDest    3614697\n",
       "newbalanceDest    3555499\n",
       "isFraud                 2\n",
       "isFlaggedFraud          2\n",
       "dtype: int64"
      ]
     },
     "execution_count": 26,
     "metadata": {},
     "output_type": "execute_result"
    }
   ],
   "source": [
    "df.nunique()"
   ]
  },
  {
   "cell_type": "code",
   "execution_count": 27,
   "metadata": {},
   "outputs": [
    {
     "data": {
      "text/html": [
       "<div>\n",
       "<style scoped>\n",
       "    .dataframe tbody tr th:only-of-type {\n",
       "        vertical-align: middle;\n",
       "    }\n",
       "\n",
       "    .dataframe tbody tr th {\n",
       "        vertical-align: top;\n",
       "    }\n",
       "\n",
       "    .dataframe thead th {\n",
       "        text-align: right;\n",
       "    }\n",
       "</style>\n",
       "<table border=\"1\" class=\"dataframe\">\n",
       "  <thead>\n",
       "    <tr style=\"text-align: right;\">\n",
       "      <th></th>\n",
       "      <th>step</th>\n",
       "      <th>amount</th>\n",
       "      <th>oldbalanceOrg</th>\n",
       "      <th>newbalanceOrig</th>\n",
       "      <th>oldbalanceDest</th>\n",
       "      <th>newbalanceDest</th>\n",
       "      <th>isFraud</th>\n",
       "      <th>isFlaggedFraud</th>\n",
       "    </tr>\n",
       "  </thead>\n",
       "  <tbody>\n",
       "    <tr>\n",
       "      <th>count</th>\n",
       "      <td>6.362620e+06</td>\n",
       "      <td>6.362620e+06</td>\n",
       "      <td>6.362620e+06</td>\n",
       "      <td>6.362620e+06</td>\n",
       "      <td>6.362620e+06</td>\n",
       "      <td>6.362620e+06</td>\n",
       "      <td>6.362620e+06</td>\n",
       "      <td>6.362620e+06</td>\n",
       "    </tr>\n",
       "    <tr>\n",
       "      <th>mean</th>\n",
       "      <td>2.433972e+02</td>\n",
       "      <td>1.798619e+05</td>\n",
       "      <td>8.338831e+05</td>\n",
       "      <td>8.551137e+05</td>\n",
       "      <td>1.100702e+06</td>\n",
       "      <td>1.224996e+06</td>\n",
       "      <td>1.290820e-03</td>\n",
       "      <td>2.514687e-06</td>\n",
       "    </tr>\n",
       "    <tr>\n",
       "      <th>std</th>\n",
       "      <td>1.423320e+02</td>\n",
       "      <td>6.038582e+05</td>\n",
       "      <td>2.888243e+06</td>\n",
       "      <td>2.924049e+06</td>\n",
       "      <td>3.399180e+06</td>\n",
       "      <td>3.674129e+06</td>\n",
       "      <td>3.590480e-02</td>\n",
       "      <td>1.585775e-03</td>\n",
       "    </tr>\n",
       "    <tr>\n",
       "      <th>min</th>\n",
       "      <td>1.000000e+00</td>\n",
       "      <td>0.000000e+00</td>\n",
       "      <td>0.000000e+00</td>\n",
       "      <td>0.000000e+00</td>\n",
       "      <td>0.000000e+00</td>\n",
       "      <td>0.000000e+00</td>\n",
       "      <td>0.000000e+00</td>\n",
       "      <td>0.000000e+00</td>\n",
       "    </tr>\n",
       "    <tr>\n",
       "      <th>25%</th>\n",
       "      <td>1.560000e+02</td>\n",
       "      <td>1.338957e+04</td>\n",
       "      <td>0.000000e+00</td>\n",
       "      <td>0.000000e+00</td>\n",
       "      <td>0.000000e+00</td>\n",
       "      <td>0.000000e+00</td>\n",
       "      <td>0.000000e+00</td>\n",
       "      <td>0.000000e+00</td>\n",
       "    </tr>\n",
       "    <tr>\n",
       "      <th>50%</th>\n",
       "      <td>2.390000e+02</td>\n",
       "      <td>7.487194e+04</td>\n",
       "      <td>1.420800e+04</td>\n",
       "      <td>0.000000e+00</td>\n",
       "      <td>1.327057e+05</td>\n",
       "      <td>2.146614e+05</td>\n",
       "      <td>0.000000e+00</td>\n",
       "      <td>0.000000e+00</td>\n",
       "    </tr>\n",
       "    <tr>\n",
       "      <th>75%</th>\n",
       "      <td>3.350000e+02</td>\n",
       "      <td>2.087215e+05</td>\n",
       "      <td>1.073152e+05</td>\n",
       "      <td>1.442584e+05</td>\n",
       "      <td>9.430367e+05</td>\n",
       "      <td>1.111909e+06</td>\n",
       "      <td>0.000000e+00</td>\n",
       "      <td>0.000000e+00</td>\n",
       "    </tr>\n",
       "    <tr>\n",
       "      <th>max</th>\n",
       "      <td>7.430000e+02</td>\n",
       "      <td>9.244552e+07</td>\n",
       "      <td>5.958504e+07</td>\n",
       "      <td>4.958504e+07</td>\n",
       "      <td>3.560159e+08</td>\n",
       "      <td>3.561793e+08</td>\n",
       "      <td>1.000000e+00</td>\n",
       "      <td>1.000000e+00</td>\n",
       "    </tr>\n",
       "  </tbody>\n",
       "</table>\n",
       "</div>"
      ],
      "text/plain": [
       "               step        amount  oldbalanceOrg  newbalanceOrig  \\\n",
       "count  6.362620e+06  6.362620e+06   6.362620e+06    6.362620e+06   \n",
       "mean   2.433972e+02  1.798619e+05   8.338831e+05    8.551137e+05   \n",
       "std    1.423320e+02  6.038582e+05   2.888243e+06    2.924049e+06   \n",
       "min    1.000000e+00  0.000000e+00   0.000000e+00    0.000000e+00   \n",
       "25%    1.560000e+02  1.338957e+04   0.000000e+00    0.000000e+00   \n",
       "50%    2.390000e+02  7.487194e+04   1.420800e+04    0.000000e+00   \n",
       "75%    3.350000e+02  2.087215e+05   1.073152e+05    1.442584e+05   \n",
       "max    7.430000e+02  9.244552e+07   5.958504e+07    4.958504e+07   \n",
       "\n",
       "       oldbalanceDest  newbalanceDest       isFraud  isFlaggedFraud  \n",
       "count    6.362620e+06    6.362620e+06  6.362620e+06    6.362620e+06  \n",
       "mean     1.100702e+06    1.224996e+06  1.290820e-03    2.514687e-06  \n",
       "std      3.399180e+06    3.674129e+06  3.590480e-02    1.585775e-03  \n",
       "min      0.000000e+00    0.000000e+00  0.000000e+00    0.000000e+00  \n",
       "25%      0.000000e+00    0.000000e+00  0.000000e+00    0.000000e+00  \n",
       "50%      1.327057e+05    2.146614e+05  0.000000e+00    0.000000e+00  \n",
       "75%      9.430367e+05    1.111909e+06  0.000000e+00    0.000000e+00  \n",
       "max      3.560159e+08    3.561793e+08  1.000000e+00    1.000000e+00  "
      ]
     },
     "execution_count": 27,
     "metadata": {},
     "output_type": "execute_result"
    }
   ],
   "source": [
    "df.describe()"
   ]
  },
  {
   "cell_type": "code",
   "execution_count": 28,
   "metadata": {},
   "outputs": [
    {
     "data": {
      "text/html": [
       "<div>\n",
       "<style scoped>\n",
       "    .dataframe tbody tr th:only-of-type {\n",
       "        vertical-align: middle;\n",
       "    }\n",
       "\n",
       "    .dataframe tbody tr th {\n",
       "        vertical-align: top;\n",
       "    }\n",
       "\n",
       "    .dataframe thead th {\n",
       "        text-align: right;\n",
       "    }\n",
       "</style>\n",
       "<table border=\"1\" class=\"dataframe\">\n",
       "  <thead>\n",
       "    <tr style=\"text-align: right;\">\n",
       "      <th></th>\n",
       "      <th>type</th>\n",
       "      <th>nameOrig</th>\n",
       "      <th>nameDest</th>\n",
       "    </tr>\n",
       "  </thead>\n",
       "  <tbody>\n",
       "    <tr>\n",
       "      <th>count</th>\n",
       "      <td>6362620</td>\n",
       "      <td>6362620</td>\n",
       "      <td>6362620</td>\n",
       "    </tr>\n",
       "    <tr>\n",
       "      <th>unique</th>\n",
       "      <td>5</td>\n",
       "      <td>6353307</td>\n",
       "      <td>2722362</td>\n",
       "    </tr>\n",
       "    <tr>\n",
       "      <th>top</th>\n",
       "      <td>CASH_OUT</td>\n",
       "      <td>C724452879</td>\n",
       "      <td>C1286084959</td>\n",
       "    </tr>\n",
       "    <tr>\n",
       "      <th>freq</th>\n",
       "      <td>2237500</td>\n",
       "      <td>3</td>\n",
       "      <td>113</td>\n",
       "    </tr>\n",
       "  </tbody>\n",
       "</table>\n",
       "</div>"
      ],
      "text/plain": [
       "            type    nameOrig     nameDest\n",
       "count    6362620     6362620      6362620\n",
       "unique         5     6353307      2722362\n",
       "top     CASH_OUT  C724452879  C1286084959\n",
       "freq     2237500           3          113"
      ]
     },
     "execution_count": 28,
     "metadata": {},
     "output_type": "execute_result"
    }
   ],
   "source": [
    "df.describe(include='O')"
   ]
  },
  {
   "cell_type": "markdown",
   "metadata": {},
   "source": [
    "Change Data Type"
   ]
  },
  {
   "cell_type": "code",
   "execution_count": 29,
   "metadata": {},
   "outputs": [],
   "source": [
    "def ido(x):\n",
    "    return x[1:]\n",
    "def idd(x):\n",
    "    return x[:1]\n",
    "\n",
    "df['nameOrig'] = df['nameOrig'].apply(ido)\n",
    "df['nameOrig'] = df['nameOrig'].astype(int)\n",
    "\n",
    "df['codeDest'] = df['nameDest'].apply(idd)\n",
    "df['nameDest'] = df['nameDest'].apply(ido)\n",
    "df['nameDest'] = df['nameDest'].astype(int)"
   ]
  },
  {
   "cell_type": "markdown",
   "metadata": {},
   "source": [
    "Encoding"
   ]
  },
  {
   "cell_type": "code",
   "execution_count": 30,
   "metadata": {},
   "outputs": [],
   "source": [
    "df['codeDest'] = df['codeDest'].map({\n",
    "    'C' : 0,\n",
    "    'M' : 1\n",
    "})"
   ]
  },
  {
   "cell_type": "code",
   "execution_count": 31,
   "metadata": {},
   "outputs": [],
   "source": [
    "dfcorr = pd.get_dummies(data=df, columns=['type'])"
   ]
  },
  {
   "cell_type": "code",
   "execution_count": 32,
   "metadata": {},
   "outputs": [
    {
     "data": {
      "text/html": [
       "<div>\n",
       "<style scoped>\n",
       "    .dataframe tbody tr th:only-of-type {\n",
       "        vertical-align: middle;\n",
       "    }\n",
       "\n",
       "    .dataframe tbody tr th {\n",
       "        vertical-align: top;\n",
       "    }\n",
       "\n",
       "    .dataframe thead th {\n",
       "        text-align: right;\n",
       "    }\n",
       "</style>\n",
       "<table border=\"1\" class=\"dataframe\">\n",
       "  <thead>\n",
       "    <tr style=\"text-align: right;\">\n",
       "      <th></th>\n",
       "      <th>step</th>\n",
       "      <th>amount</th>\n",
       "      <th>nameOrig</th>\n",
       "      <th>oldbalanceOrg</th>\n",
       "      <th>newbalanceOrig</th>\n",
       "      <th>nameDest</th>\n",
       "      <th>oldbalanceDest</th>\n",
       "      <th>newbalanceDest</th>\n",
       "      <th>isFraud</th>\n",
       "      <th>isFlaggedFraud</th>\n",
       "      <th>codeDest</th>\n",
       "      <th>type_CASH_IN</th>\n",
       "      <th>type_CASH_OUT</th>\n",
       "      <th>type_DEBIT</th>\n",
       "      <th>type_PAYMENT</th>\n",
       "      <th>type_TRANSFER</th>\n",
       "    </tr>\n",
       "  </thead>\n",
       "  <tbody>\n",
       "    <tr>\n",
       "      <th>step</th>\n",
       "      <td>1.000000</td>\n",
       "      <td>0.022373</td>\n",
       "      <td>0.000158</td>\n",
       "      <td>-0.010058</td>\n",
       "      <td>-0.010299</td>\n",
       "      <td>0.000413</td>\n",
       "      <td>0.027665</td>\n",
       "      <td>0.025888</td>\n",
       "      <td>0.031578</td>\n",
       "      <td>0.003277</td>\n",
       "      <td>0.004926</td>\n",
       "      <td>0.004077</td>\n",
       "      <td>-0.012918</td>\n",
       "      <td>0.002869</td>\n",
       "      <td>0.004926</td>\n",
       "      <td>0.006925</td>\n",
       "    </tr>\n",
       "    <tr>\n",
       "      <th>amount</th>\n",
       "      <td>0.022373</td>\n",
       "      <td>1.000000</td>\n",
       "      <td>-0.000292</td>\n",
       "      <td>-0.002762</td>\n",
       "      <td>-0.007861</td>\n",
       "      <td>-0.001012</td>\n",
       "      <td>0.294137</td>\n",
       "      <td>0.459304</td>\n",
       "      <td>0.076688</td>\n",
       "      <td>0.012295</td>\n",
       "      <td>-0.197444</td>\n",
       "      <td>-0.009621</td>\n",
       "      <td>-0.004376</td>\n",
       "      <td>-0.023379</td>\n",
       "      <td>-0.197444</td>\n",
       "      <td>0.365896</td>\n",
       "    </tr>\n",
       "    <tr>\n",
       "      <th>nameOrig</th>\n",
       "      <td>0.000158</td>\n",
       "      <td>-0.000292</td>\n",
       "      <td>1.000000</td>\n",
       "      <td>-0.000770</td>\n",
       "      <td>-0.000740</td>\n",
       "      <td>-0.000553</td>\n",
       "      <td>-0.000236</td>\n",
       "      <td>-0.000360</td>\n",
       "      <td>0.000470</td>\n",
       "      <td>-0.000167</td>\n",
       "      <td>0.000234</td>\n",
       "      <td>-0.000324</td>\n",
       "      <td>0.000070</td>\n",
       "      <td>-0.000505</td>\n",
       "      <td>0.000234</td>\n",
       "      <td>0.000110</td>\n",
       "    </tr>\n",
       "    <tr>\n",
       "      <th>oldbalanceOrg</th>\n",
       "      <td>-0.010058</td>\n",
       "      <td>-0.002762</td>\n",
       "      <td>-0.000770</td>\n",
       "      <td>1.000000</td>\n",
       "      <td>0.998803</td>\n",
       "      <td>-0.000584</td>\n",
       "      <td>0.066243</td>\n",
       "      <td>0.042029</td>\n",
       "      <td>0.010154</td>\n",
       "      <td>0.003835</td>\n",
       "      <td>-0.189486</td>\n",
       "      <td>0.506761</td>\n",
       "      <td>-0.200899</td>\n",
       "      <td>-0.021450</td>\n",
       "      <td>-0.189486</td>\n",
       "      <td>-0.081593</td>\n",
       "    </tr>\n",
       "    <tr>\n",
       "      <th>newbalanceOrig</th>\n",
       "      <td>-0.010299</td>\n",
       "      <td>-0.007861</td>\n",
       "      <td>-0.000740</td>\n",
       "      <td>0.998803</td>\n",
       "      <td>1.000000</td>\n",
       "      <td>-0.000602</td>\n",
       "      <td>0.067812</td>\n",
       "      <td>0.041837</td>\n",
       "      <td>-0.008148</td>\n",
       "      <td>0.003776</td>\n",
       "      <td>-0.193915</td>\n",
       "      <td>0.527373</td>\n",
       "      <td>-0.210977</td>\n",
       "      <td>-0.021872</td>\n",
       "      <td>-0.193915</td>\n",
       "      <td>-0.087355</td>\n",
       "    </tr>\n",
       "    <tr>\n",
       "      <th>nameDest</th>\n",
       "      <td>0.000413</td>\n",
       "      <td>-0.001012</td>\n",
       "      <td>-0.000553</td>\n",
       "      <td>-0.000584</td>\n",
       "      <td>-0.000602</td>\n",
       "      <td>1.000000</td>\n",
       "      <td>-0.001127</td>\n",
       "      <td>-0.001118</td>\n",
       "      <td>-0.000141</td>\n",
       "      <td>0.000440</td>\n",
       "      <td>0.000860</td>\n",
       "      <td>-0.001023</td>\n",
       "      <td>0.000186</td>\n",
       "      <td>-0.000287</td>\n",
       "      <td>0.000860</td>\n",
       "      <td>-0.000177</td>\n",
       "    </tr>\n",
       "    <tr>\n",
       "      <th>oldbalanceDest</th>\n",
       "      <td>0.027665</td>\n",
       "      <td>0.294137</td>\n",
       "      <td>-0.000236</td>\n",
       "      <td>0.066243</td>\n",
       "      <td>0.067812</td>\n",
       "      <td>-0.001127</td>\n",
       "      <td>1.000000</td>\n",
       "      <td>0.976569</td>\n",
       "      <td>-0.005885</td>\n",
       "      <td>-0.000513</td>\n",
       "      <td>-0.231455</td>\n",
       "      <td>0.076105</td>\n",
       "      <td>0.086028</td>\n",
       "      <td>0.009347</td>\n",
       "      <td>-0.231455</td>\n",
       "      <td>0.130476</td>\n",
       "    </tr>\n",
       "    <tr>\n",
       "      <th>newbalanceDest</th>\n",
       "      <td>0.025888</td>\n",
       "      <td>0.459304</td>\n",
       "      <td>-0.000360</td>\n",
       "      <td>0.042029</td>\n",
       "      <td>0.041837</td>\n",
       "      <td>-0.001118</td>\n",
       "      <td>0.976569</td>\n",
       "      <td>1.000000</td>\n",
       "      <td>0.000535</td>\n",
       "      <td>-0.000529</td>\n",
       "      <td>-0.238315</td>\n",
       "      <td>0.034988</td>\n",
       "      <td>0.093476</td>\n",
       "      <td>0.006346</td>\n",
       "      <td>-0.238315</td>\n",
       "      <td>0.191701</td>\n",
       "    </tr>\n",
       "    <tr>\n",
       "      <th>isFraud</th>\n",
       "      <td>0.031578</td>\n",
       "      <td>0.076688</td>\n",
       "      <td>0.000470</td>\n",
       "      <td>0.010154</td>\n",
       "      <td>-0.008148</td>\n",
       "      <td>-0.000141</td>\n",
       "      <td>-0.005885</td>\n",
       "      <td>0.000535</td>\n",
       "      <td>1.000000</td>\n",
       "      <td>0.044109</td>\n",
       "      <td>-0.025697</td>\n",
       "      <td>-0.019089</td>\n",
       "      <td>0.011256</td>\n",
       "      <td>-0.002911</td>\n",
       "      <td>-0.025697</td>\n",
       "      <td>0.053869</td>\n",
       "    </tr>\n",
       "    <tr>\n",
       "      <th>isFlaggedFraud</th>\n",
       "      <td>0.003277</td>\n",
       "      <td>0.012295</td>\n",
       "      <td>-0.000167</td>\n",
       "      <td>0.003835</td>\n",
       "      <td>0.003776</td>\n",
       "      <td>0.000440</td>\n",
       "      <td>-0.000513</td>\n",
       "      <td>-0.000529</td>\n",
       "      <td>0.044109</td>\n",
       "      <td>1.000000</td>\n",
       "      <td>-0.001133</td>\n",
       "      <td>-0.000842</td>\n",
       "      <td>-0.001168</td>\n",
       "      <td>-0.000128</td>\n",
       "      <td>-0.001133</td>\n",
       "      <td>0.005245</td>\n",
       "    </tr>\n",
       "    <tr>\n",
       "      <th>codeDest</th>\n",
       "      <td>0.004926</td>\n",
       "      <td>-0.197444</td>\n",
       "      <td>0.000234</td>\n",
       "      <td>-0.189486</td>\n",
       "      <td>-0.193915</td>\n",
       "      <td>0.000860</td>\n",
       "      <td>-0.231455</td>\n",
       "      <td>-0.238315</td>\n",
       "      <td>-0.025697</td>\n",
       "      <td>-0.001133</td>\n",
       "      <td>1.000000</td>\n",
       "      <td>-0.379522</td>\n",
       "      <td>-0.526422</td>\n",
       "      <td>-0.057868</td>\n",
       "      <td>1.000000</td>\n",
       "      <td>-0.216110</td>\n",
       "    </tr>\n",
       "    <tr>\n",
       "      <th>type_CASH_IN</th>\n",
       "      <td>0.004077</td>\n",
       "      <td>-0.009621</td>\n",
       "      <td>-0.000324</td>\n",
       "      <td>0.506761</td>\n",
       "      <td>0.527373</td>\n",
       "      <td>-0.001023</td>\n",
       "      <td>0.076105</td>\n",
       "      <td>0.034988</td>\n",
       "      <td>-0.019089</td>\n",
       "      <td>-0.000842</td>\n",
       "      <td>-0.379522</td>\n",
       "      <td>1.000000</td>\n",
       "      <td>-0.391047</td>\n",
       "      <td>-0.042987</td>\n",
       "      <td>-0.379522</td>\n",
       "      <td>-0.160535</td>\n",
       "    </tr>\n",
       "    <tr>\n",
       "      <th>type_CASH_OUT</th>\n",
       "      <td>-0.012918</td>\n",
       "      <td>-0.004376</td>\n",
       "      <td>0.000070</td>\n",
       "      <td>-0.200899</td>\n",
       "      <td>-0.210977</td>\n",
       "      <td>0.000186</td>\n",
       "      <td>0.086028</td>\n",
       "      <td>0.093476</td>\n",
       "      <td>0.011256</td>\n",
       "      <td>-0.001168</td>\n",
       "      <td>-0.526422</td>\n",
       "      <td>-0.391047</td>\n",
       "      <td>1.000000</td>\n",
       "      <td>-0.059625</td>\n",
       "      <td>-0.526422</td>\n",
       "      <td>-0.222672</td>\n",
       "    </tr>\n",
       "    <tr>\n",
       "      <th>type_DEBIT</th>\n",
       "      <td>0.002869</td>\n",
       "      <td>-0.023379</td>\n",
       "      <td>-0.000505</td>\n",
       "      <td>-0.021450</td>\n",
       "      <td>-0.021872</td>\n",
       "      <td>-0.000287</td>\n",
       "      <td>0.009347</td>\n",
       "      <td>0.006346</td>\n",
       "      <td>-0.002911</td>\n",
       "      <td>-0.000128</td>\n",
       "      <td>-0.057868</td>\n",
       "      <td>-0.042987</td>\n",
       "      <td>-0.059625</td>\n",
       "      <td>1.000000</td>\n",
       "      <td>-0.057868</td>\n",
       "      <td>-0.024478</td>\n",
       "    </tr>\n",
       "    <tr>\n",
       "      <th>type_PAYMENT</th>\n",
       "      <td>0.004926</td>\n",
       "      <td>-0.197444</td>\n",
       "      <td>0.000234</td>\n",
       "      <td>-0.189486</td>\n",
       "      <td>-0.193915</td>\n",
       "      <td>0.000860</td>\n",
       "      <td>-0.231455</td>\n",
       "      <td>-0.238315</td>\n",
       "      <td>-0.025697</td>\n",
       "      <td>-0.001133</td>\n",
       "      <td>1.000000</td>\n",
       "      <td>-0.379522</td>\n",
       "      <td>-0.526422</td>\n",
       "      <td>-0.057868</td>\n",
       "      <td>1.000000</td>\n",
       "      <td>-0.216110</td>\n",
       "    </tr>\n",
       "    <tr>\n",
       "      <th>type_TRANSFER</th>\n",
       "      <td>0.006925</td>\n",
       "      <td>0.365896</td>\n",
       "      <td>0.000110</td>\n",
       "      <td>-0.081593</td>\n",
       "      <td>-0.087355</td>\n",
       "      <td>-0.000177</td>\n",
       "      <td>0.130476</td>\n",
       "      <td>0.191701</td>\n",
       "      <td>0.053869</td>\n",
       "      <td>0.005245</td>\n",
       "      <td>-0.216110</td>\n",
       "      <td>-0.160535</td>\n",
       "      <td>-0.222672</td>\n",
       "      <td>-0.024478</td>\n",
       "      <td>-0.216110</td>\n",
       "      <td>1.000000</td>\n",
       "    </tr>\n",
       "  </tbody>\n",
       "</table>\n",
       "</div>"
      ],
      "text/plain": [
       "                    step    amount  nameOrig  oldbalanceOrg  newbalanceOrig  \\\n",
       "step            1.000000  0.022373  0.000158      -0.010058       -0.010299   \n",
       "amount          0.022373  1.000000 -0.000292      -0.002762       -0.007861   \n",
       "nameOrig        0.000158 -0.000292  1.000000      -0.000770       -0.000740   \n",
       "oldbalanceOrg  -0.010058 -0.002762 -0.000770       1.000000        0.998803   \n",
       "newbalanceOrig -0.010299 -0.007861 -0.000740       0.998803        1.000000   \n",
       "nameDest        0.000413 -0.001012 -0.000553      -0.000584       -0.000602   \n",
       "oldbalanceDest  0.027665  0.294137 -0.000236       0.066243        0.067812   \n",
       "newbalanceDest  0.025888  0.459304 -0.000360       0.042029        0.041837   \n",
       "isFraud         0.031578  0.076688  0.000470       0.010154       -0.008148   \n",
       "isFlaggedFraud  0.003277  0.012295 -0.000167       0.003835        0.003776   \n",
       "codeDest        0.004926 -0.197444  0.000234      -0.189486       -0.193915   \n",
       "type_CASH_IN    0.004077 -0.009621 -0.000324       0.506761        0.527373   \n",
       "type_CASH_OUT  -0.012918 -0.004376  0.000070      -0.200899       -0.210977   \n",
       "type_DEBIT      0.002869 -0.023379 -0.000505      -0.021450       -0.021872   \n",
       "type_PAYMENT    0.004926 -0.197444  0.000234      -0.189486       -0.193915   \n",
       "type_TRANSFER   0.006925  0.365896  0.000110      -0.081593       -0.087355   \n",
       "\n",
       "                nameDest  oldbalanceDest  newbalanceDest   isFraud  \\\n",
       "step            0.000413        0.027665        0.025888  0.031578   \n",
       "amount         -0.001012        0.294137        0.459304  0.076688   \n",
       "nameOrig       -0.000553       -0.000236       -0.000360  0.000470   \n",
       "oldbalanceOrg  -0.000584        0.066243        0.042029  0.010154   \n",
       "newbalanceOrig -0.000602        0.067812        0.041837 -0.008148   \n",
       "nameDest        1.000000       -0.001127       -0.001118 -0.000141   \n",
       "oldbalanceDest -0.001127        1.000000        0.976569 -0.005885   \n",
       "newbalanceDest -0.001118        0.976569        1.000000  0.000535   \n",
       "isFraud        -0.000141       -0.005885        0.000535  1.000000   \n",
       "isFlaggedFraud  0.000440       -0.000513       -0.000529  0.044109   \n",
       "codeDest        0.000860       -0.231455       -0.238315 -0.025697   \n",
       "type_CASH_IN   -0.001023        0.076105        0.034988 -0.019089   \n",
       "type_CASH_OUT   0.000186        0.086028        0.093476  0.011256   \n",
       "type_DEBIT     -0.000287        0.009347        0.006346 -0.002911   \n",
       "type_PAYMENT    0.000860       -0.231455       -0.238315 -0.025697   \n",
       "type_TRANSFER  -0.000177        0.130476        0.191701  0.053869   \n",
       "\n",
       "                isFlaggedFraud  codeDest  type_CASH_IN  type_CASH_OUT  \\\n",
       "step                  0.003277  0.004926      0.004077      -0.012918   \n",
       "amount                0.012295 -0.197444     -0.009621      -0.004376   \n",
       "nameOrig             -0.000167  0.000234     -0.000324       0.000070   \n",
       "oldbalanceOrg         0.003835 -0.189486      0.506761      -0.200899   \n",
       "newbalanceOrig        0.003776 -0.193915      0.527373      -0.210977   \n",
       "nameDest              0.000440  0.000860     -0.001023       0.000186   \n",
       "oldbalanceDest       -0.000513 -0.231455      0.076105       0.086028   \n",
       "newbalanceDest       -0.000529 -0.238315      0.034988       0.093476   \n",
       "isFraud               0.044109 -0.025697     -0.019089       0.011256   \n",
       "isFlaggedFraud        1.000000 -0.001133     -0.000842      -0.001168   \n",
       "codeDest             -0.001133  1.000000     -0.379522      -0.526422   \n",
       "type_CASH_IN         -0.000842 -0.379522      1.000000      -0.391047   \n",
       "type_CASH_OUT        -0.001168 -0.526422     -0.391047       1.000000   \n",
       "type_DEBIT           -0.000128 -0.057868     -0.042987      -0.059625   \n",
       "type_PAYMENT         -0.001133  1.000000     -0.379522      -0.526422   \n",
       "type_TRANSFER         0.005245 -0.216110     -0.160535      -0.222672   \n",
       "\n",
       "                type_DEBIT  type_PAYMENT  type_TRANSFER  \n",
       "step              0.002869      0.004926       0.006925  \n",
       "amount           -0.023379     -0.197444       0.365896  \n",
       "nameOrig         -0.000505      0.000234       0.000110  \n",
       "oldbalanceOrg    -0.021450     -0.189486      -0.081593  \n",
       "newbalanceOrig   -0.021872     -0.193915      -0.087355  \n",
       "nameDest         -0.000287      0.000860      -0.000177  \n",
       "oldbalanceDest    0.009347     -0.231455       0.130476  \n",
       "newbalanceDest    0.006346     -0.238315       0.191701  \n",
       "isFraud          -0.002911     -0.025697       0.053869  \n",
       "isFlaggedFraud   -0.000128     -0.001133       0.005245  \n",
       "codeDest         -0.057868      1.000000      -0.216110  \n",
       "type_CASH_IN     -0.042987     -0.379522      -0.160535  \n",
       "type_CASH_OUT    -0.059625     -0.526422      -0.222672  \n",
       "type_DEBIT        1.000000     -0.057868      -0.024478  \n",
       "type_PAYMENT     -0.057868      1.000000      -0.216110  \n",
       "type_TRANSFER    -0.024478     -0.216110       1.000000  "
      ]
     },
     "execution_count": 32,
     "metadata": {},
     "output_type": "execute_result"
    }
   ],
   "source": [
    "dfcorr.corr()"
   ]
  },
  {
   "cell_type": "markdown",
   "metadata": {},
   "source": [
    "**Checking Data Distribution and Outliers**"
   ]
  },
  {
   "cell_type": "code",
   "execution_count": 37,
   "metadata": {},
   "outputs": [
    {
     "name": "stdout",
     "output_type": "stream",
     "text": [
      "AxesSubplot(0.125,0.125;0.775x0.755)\n"
     ]
    },
    {
     "data": {
      "image/png": "[encoded data removed]",
      "text/plain": [
       "<Figure size 432x288 with 1 Axes>"
      ]
     },
     "metadata": {
      "needs_background": "light"
     },
     "output_type": "display_data"
    }
   ],
   "source": [
    "print(sns.boxplot(df['step'], color='lightgrey'))"
   ]
  },
  {
   "cell_type": "code",
   "execution_count": 38,
   "metadata": {},
   "outputs": [
    {
     "name": "stdout",
     "output_type": "stream",
     "text": [
      "AxesSubplot(0.125,0.125;0.775x0.755)\n"
     ]
    },
    {
     "data": {
      "image/png": "[encoded data removed]",
      "text/plain": [
       "<Figure size 432x288 with 1 Axes>"
      ]
     },
     "metadata": {
      "needs_background": "light"
     },
     "output_type": "display_data"
    }
   ],
   "source": [
    "print(sns.boxplot(df['amount'], color='black'))"
   ]
  },
  {
   "cell_type": "code",
   "execution_count": 39,
   "metadata": {},
   "outputs": [
    {
     "name": "stdout",
     "output_type": "stream",
     "text": [
      "AxesSubplot(0.125,0.125;0.775x0.755)\n"
     ]
    },
    {
     "data": {
      "image/png": "[encoded data removed]",
      "text/plain": [
       "<Figure size 432x288 with 1 Axes>"
      ]
     },
     "metadata": {
      "needs_background": "light"
     },
     "output_type": "display_data"
    }
   ],
   "source": [
    "print(sns.boxplot(df['oldbalanceOrg'], color='lightgreen'))"
   ]
  },
  {
   "cell_type": "code",
   "execution_count": 42,
   "metadata": {},
   "outputs": [
    {
     "name": "stdout",
     "output_type": "stream",
     "text": [
      "AxesSubplot(0.125,0.125;0.775x0.755)\n"
     ]
    },
    {
     "data": {
      "image/png": "[encoded data removed]",
      "text/plain": [
       "<Figure size 432x288 with 1 Axes>"
      ]
     },
     "metadata": {
      "needs_background": "light"
     },
     "output_type": "display_data"
    }
   ],
   "source": [
    "print(sns.boxplot(df['newbalanceOrig'], color='lightyellow'))"
   ]
  },
  {
   "cell_type": "code",
   "execution_count": 43,
   "metadata": {},
   "outputs": [
    {
     "name": "stdout",
     "output_type": "stream",
     "text": [
      "AxesSubplot(0.125,0.125;0.775x0.755)\n"
     ]
    },
    {
     "data": {
      "image/png": "[encoded data removed]",
      "text/plain": [
       "<Figure size 432x288 with 1 Axes>"
      ]
     },
     "metadata": {
      "needs_background": "light"
     },
     "output_type": "display_data"
    }
   ],
   "source": [
    "print(sns.boxplot(df['oldbalanceDest'], color='lightgreen'))"
   ]
  },
  {
   "cell_type": "code",
   "execution_count": 44,
   "metadata": {},
   "outputs": [
    {
     "name": "stdout",
     "output_type": "stream",
     "text": [
      "AxesSubplot(0.125,0.125;0.775x0.755)\n"
     ]
    },
    {
     "data": {
      "image/png": "[encoded data removed]",
      "text/plain": [
       "<Figure size 432x288 with 1 Axes>"
      ]
     },
     "metadata": {
      "needs_background": "light"
     },
     "output_type": "display_data"
    }
   ],
   "source": [
    "print(sns.boxplot(df['newbalanceDest'], color='green'))"
   ]
  },
  {
   "cell_type": "code",
   "execution_count": 51,
   "metadata": {},
   "outputs": [
    {
     "data": {
      "text/html": [
       "<div>\n",
       "<style scoped>\n",
       "    .dataframe tbody tr th:only-of-type {\n",
       "        vertical-align: middle;\n",
       "    }\n",
       "\n",
       "    .dataframe tbody tr th {\n",
       "        vertical-align: top;\n",
       "    }\n",
       "\n",
       "    .dataframe thead th {\n",
       "        text-align: right;\n",
       "    }\n",
       "</style>\n",
       "<table border=\"1\" class=\"dataframe\">\n",
       "  <thead>\n",
       "    <tr style=\"text-align: right;\">\n",
       "      <th>type</th>\n",
       "      <th>CASH_IN</th>\n",
       "      <th>CASH_OUT</th>\n",
       "      <th>DEBIT</th>\n",
       "      <th>PAYMENT</th>\n",
       "      <th>TRANSFER</th>\n",
       "    </tr>\n",
       "    <tr>\n",
       "      <th>isFraud</th>\n",
       "      <th></th>\n",
       "      <th></th>\n",
       "      <th></th>\n",
       "      <th></th>\n",
       "      <th></th>\n",
       "    </tr>\n",
       "  </thead>\n",
       "  <tbody>\n",
       "    <tr>\n",
       "      <th>0</th>\n",
       "      <td>21.992</td>\n",
       "      <td>35.102</td>\n",
       "      <td>0.651</td>\n",
       "      <td>33.815</td>\n",
       "      <td>8.311</td>\n",
       "    </tr>\n",
       "    <tr>\n",
       "      <th>1</th>\n",
       "      <td>0.000</td>\n",
       "      <td>0.065</td>\n",
       "      <td>0.000</td>\n",
       "      <td>0.000</td>\n",
       "      <td>0.064</td>\n",
       "    </tr>\n",
       "  </tbody>\n",
       "</table>\n",
       "</div>"
      ],
      "text/plain": [
       "type     CASH_IN  CASH_OUT  DEBIT  PAYMENT  TRANSFER\n",
       "isFraud                                             \n",
       "0         21.992    35.102  0.651   33.815     8.311\n",
       "1          0.000     0.065  0.000    0.000     0.064"
      ]
     },
     "execution_count": 51,
     "metadata": {},
     "output_type": "execute_result"
    }
   ],
   "source": [
    "(pd.crosstab(index=df['isFraud'], columns=df['type'], normalize=True)*100).round(3)"
   ]
  },
  {
   "cell_type": "code",
   "execution_count": 69,
   "metadata": {},
   "outputs": [
    {
     "data": {
      "text/plain": [
       "CASH_OUT    2237500\n",
       "PAYMENT     2151495\n",
       "CASH_IN     1399284\n",
       "TRANSFER     532909\n",
       "DEBIT         41432\n",
       "Name: type, dtype: int64"
      ]
     },
     "execution_count": 69,
     "metadata": {},
     "output_type": "execute_result"
    }
   ],
   "source": [
    "df['type'].value_counts()"
   ]
  },
  {
   "cell_type": "code",
   "execution_count": 116,
   "metadata": {},
   "outputs": [
    {
     "data": {
      "text/plain": [
       "CASH_OUT    4116\n",
       "TRANSFER    4097\n",
       "Name: type, dtype: int64"
      ]
     },
     "execution_count": 116,
     "metadata": {},
     "output_type": "execute_result"
    }
   ],
   "source": [
    "(df['type'][df['isFraud']==1]).value_counts()"
   ]
  },
  {
   "cell_type": "markdown",
   "metadata": {},
   "source": [
    "**Non Fraud Transcation Percentage**"
   ]
  },
  {
   "cell_type": "code",
   "execution_count": 141,
   "metadata": {
    "scrolled": false
   },
   "outputs": [
    {
     "name": "stdout",
     "output_type": "stream",
     "text": [
      "Non-Fraud Transcation %:\n",
      "\n",
      "CASH_OUT     99.82\n",
      "PAYMENT     100.00\n",
      "CASH_IN     100.00\n",
      "TRANSFER     99.23\n",
      "DEBIT       100.00\n",
      "Name: type, dtype: float64\n"
     ]
    }
   ],
   "source": [
    "print('Non-Fraud Transcation %:')\n",
    "print('')\n",
    "print(((df['type'][df['isFraud']==0].value_counts()/df['type'].value_counts())*100).round(2))"
   ]
  },
  {
   "cell_type": "markdown",
   "metadata": {},
   "source": [
    "**Fraud Transcation Percentage**"
   ]
  },
  {
   "cell_type": "code",
   "execution_count": 144,
   "metadata": {
    "scrolled": true
   },
   "outputs": [
    {
     "name": "stdout",
     "output_type": "stream",
     "text": [
      "Fraud Transcation %:\n",
      "\n",
      "CASH_OUT    0.18\n",
      "PAYMENT     0.00\n",
      "CASH_IN     0.00\n",
      "TRANSFER    0.77\n",
      "DEBIT       0.00\n",
      "Name: type, dtype: float64\n"
     ]
    }
   ],
   "source": [
    "print('Fraud Transcation %:')\n",
    "print('')\n",
    "print((100-(df['type'][df['isFraud']==0].value_counts()/df['type'].value_counts())*100).round(2))"
   ]
  },
  {
   "cell_type": "code",
   "execution_count": null,
   "metadata": {},
   "outputs": [],
   "source": []
  }
 ],
 "metadata": {
  "kernelspec": {
   "display_name": "Python 3",
   "language": "python",
   "name": "python3"
  },
  "language_info": {
   "codemirror_mode": {
    "name": "ipython",
    "version": 3
   },
   "file_extension": ".py",
   "mimetype": "text/x-python",
   "name": "python",
   "nbconvert_exporter": "python",
   "pygments_lexer": "ipython3",
   "version": "3.8.3"
  }
 },
 "nbformat": 4,
 "nbformat_minor": 4
}
