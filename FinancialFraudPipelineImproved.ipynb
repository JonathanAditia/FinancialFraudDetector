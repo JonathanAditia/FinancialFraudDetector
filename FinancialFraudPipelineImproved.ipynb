{
 "cells": [
  {
   "cell_type": "markdown",
   "metadata": {},
   "source": [
    "**Machine Learning**\n",
    "\n",
    "- Classify the fraud and non-fraud transcation\n",
    "\n",
    "**Conclusion**\n",
    "\n",
    "- Random Forest Classifier tuned is very good model in machine learning for financial fraud detection "
   ]
  },
  {
   "cell_type": "code",
   "execution_count": 1,
   "metadata": {},
   "outputs": [],
   "source": [
    "import pandas as pd\n",
    "import numpy as np\n",
    "import matplotlib.pyplot as plt\n",
    "import seaborn as sns\n",
    "import warnings\n",
    "warnings.filterwarnings('ignore')\n",
    "\n",
    "%matplotlib inline"
   ]
  },
  {
   "cell_type": "code",
   "execution_count": 2,
   "metadata": {},
   "outputs": [
    {
     "data": {
      "text/html": [
       "<div>\n",
       "<style scoped>\n",
       "    .dataframe tbody tr th:only-of-type {\n",
       "        vertical-align: middle;\n",
       "    }\n",
       "\n",
       "    .dataframe tbody tr th {\n",
       "        vertical-align: top;\n",
       "    }\n",
       "\n",
       "    .dataframe thead th {\n",
       "        text-align: right;\n",
       "    }\n",
       "</style>\n",
       "<table border=\"1\" class=\"dataframe\">\n",
       "  <thead>\n",
       "    <tr style=\"text-align: right;\">\n",
       "      <th></th>\n",
       "      <th>step</th>\n",
       "      <th>type</th>\n",
       "      <th>amount</th>\n",
       "      <th>nameOrig</th>\n",
       "      <th>oldbalanceOrg</th>\n",
       "      <th>newbalanceOrig</th>\n",
       "      <th>nameDest</th>\n",
       "      <th>oldbalanceDest</th>\n",
       "      <th>newbalanceDest</th>\n",
       "      <th>isFraud</th>\n",
       "      <th>isFlaggedFraud</th>\n",
       "    </tr>\n",
       "  </thead>\n",
       "  <tbody>\n",
       "    <tr>\n",
       "      <th>0</th>\n",
       "      <td>1</td>\n",
       "      <td>PAYMENT</td>\n",
       "      <td>9839.64</td>\n",
       "      <td>C1231006815</td>\n",
       "      <td>170136.0</td>\n",
       "      <td>160296.36</td>\n",
       "      <td>M1979787155</td>\n",
       "      <td>0.0</td>\n",
       "      <td>0.0</td>\n",
       "      <td>0</td>\n",
       "      <td>0</td>\n",
       "    </tr>\n",
       "    <tr>\n",
       "      <th>1</th>\n",
       "      <td>1</td>\n",
       "      <td>PAYMENT</td>\n",
       "      <td>1864.28</td>\n",
       "      <td>C1666544295</td>\n",
       "      <td>21249.0</td>\n",
       "      <td>19384.72</td>\n",
       "      <td>M2044282225</td>\n",
       "      <td>0.0</td>\n",
       "      <td>0.0</td>\n",
       "      <td>0</td>\n",
       "      <td>0</td>\n",
       "    </tr>\n",
       "    <tr>\n",
       "      <th>2</th>\n",
       "      <td>1</td>\n",
       "      <td>TRANSFER</td>\n",
       "      <td>181.00</td>\n",
       "      <td>C1305486145</td>\n",
       "      <td>181.0</td>\n",
       "      <td>0.00</td>\n",
       "      <td>C553264065</td>\n",
       "      <td>0.0</td>\n",
       "      <td>0.0</td>\n",
       "      <td>1</td>\n",
       "      <td>0</td>\n",
       "    </tr>\n",
       "    <tr>\n",
       "      <th>3</th>\n",
       "      <td>1</td>\n",
       "      <td>CASH_OUT</td>\n",
       "      <td>181.00</td>\n",
       "      <td>C840083671</td>\n",
       "      <td>181.0</td>\n",
       "      <td>0.00</td>\n",
       "      <td>C38997010</td>\n",
       "      <td>21182.0</td>\n",
       "      <td>0.0</td>\n",
       "      <td>1</td>\n",
       "      <td>0</td>\n",
       "    </tr>\n",
       "    <tr>\n",
       "      <th>4</th>\n",
       "      <td>1</td>\n",
       "      <td>PAYMENT</td>\n",
       "      <td>11668.14</td>\n",
       "      <td>C2048537720</td>\n",
       "      <td>41554.0</td>\n",
       "      <td>29885.86</td>\n",
       "      <td>M1230701703</td>\n",
       "      <td>0.0</td>\n",
       "      <td>0.0</td>\n",
       "      <td>0</td>\n",
       "      <td>0</td>\n",
       "    </tr>\n",
       "  </tbody>\n",
       "</table>\n",
       "</div>"
      ],
      "text/plain": [
       "   step      type    amount     nameOrig  oldbalanceOrg  newbalanceOrig  \\\n",
       "0     1   PAYMENT   9839.64  C1231006815       170136.0       160296.36   \n",
       "1     1   PAYMENT   1864.28  C1666544295        21249.0        19384.72   \n",
       "2     1  TRANSFER    181.00  C1305486145          181.0            0.00   \n",
       "3     1  CASH_OUT    181.00   C840083671          181.0            0.00   \n",
       "4     1   PAYMENT  11668.14  C2048537720        41554.0        29885.86   \n",
       "\n",
       "      nameDest  oldbalanceDest  newbalanceDest  isFraud  isFlaggedFraud  \n",
       "0  M1979787155             0.0             0.0        0               0  \n",
       "1  M2044282225             0.0             0.0        0               0  \n",
       "2   C553264065             0.0             0.0        1               0  \n",
       "3    C38997010         21182.0             0.0        1               0  \n",
       "4  M1230701703             0.0             0.0        0               0  "
      ]
     },
     "execution_count": 2,
     "metadata": {},
     "output_type": "execute_result"
    }
   ],
   "source": [
    "df = pd.read_csv('financial_fraud_detection.csv')\n",
    "df.head()"
   ]
  },
  {
   "cell_type": "code",
   "execution_count": 3,
   "metadata": {},
   "outputs": [],
   "source": [
    "def ido(x):\n",
    "    return x[1:]\n",
    "def idd(x):\n",
    "    return x[:1]\n",
    "\n",
    "\n",
    "df['codeOrig'] = df['nameOrig'].apply(idd)\n",
    "df['nameOrig'] = df['nameOrig'].apply(ido)\n",
    "df['nameOrig'] = df['nameOrig'].astype(int)\n",
    "\n",
    "df['codeDest'] = df['nameDest'].apply(idd)\n",
    "df['nameDest'] = df['nameDest'].apply(ido)\n",
    "df['nameDest'] = df['nameDest'].astype(int)"
   ]
  },
  {
   "cell_type": "code",
   "execution_count": 4,
   "metadata": {},
   "outputs": [],
   "source": [
    "df['balanceDifferenceOrig'] = df['oldbalanceOrg']-df['newbalanceOrig']\n",
    "df['balanceDifferenceDest'] = df['newbalanceDest']-df['oldbalanceDest']\n",
    "df['balanceDifferenceSum'] = df['balanceDifferenceOrig']-df['balanceDifferenceDest']"
   ]
  },
  {
   "cell_type": "code",
   "execution_count": 5,
   "metadata": {},
   "outputs": [],
   "source": [
    "df = df.drop(columns=['nameOrig','nameDest'])"
   ]
  },
  {
   "cell_type": "code",
   "execution_count": 6,
   "metadata": {},
   "outputs": [
    {
     "data": {
      "text/plain": [
       "0    6354407\n",
       "1       8213\n",
       "Name: isFraud, dtype: int64"
      ]
     },
     "execution_count": 6,
     "metadata": {},
     "output_type": "execute_result"
    }
   ],
   "source": [
    "df['isFraud'].value_counts()"
   ]
  },
  {
   "cell_type": "markdown",
   "metadata": {},
   "source": [
    "**Data Preprocessing**"
   ]
  },
  {
   "cell_type": "markdown",
   "metadata": {},
   "source": [
    "**Splitting Imbalance Data**"
   ]
  },
  {
   "cell_type": "code",
   "execution_count": 7,
   "metadata": {},
   "outputs": [],
   "source": [
    "from sklearn.model_selection import train_test_split"
   ]
  },
  {
   "cell_type": "code",
   "execution_count": 8,
   "metadata": {},
   "outputs": [],
   "source": [
    "X = df.drop(columns='isFraud')\n",
    "y = df['isFraud']\n",
    "\n",
    "X_train, X_test, y_train, y_test = train_test_split(X, y, train_size = .70, stratify = y,random_state = 42)"
   ]
  },
  {
   "cell_type": "markdown",
   "metadata": {},
   "source": [
    "**Checking Imbalance Dataset**"
   ]
  },
  {
   "cell_type": "code",
   "execution_count": 9,
   "metadata": {},
   "outputs": [],
   "source": [
    "df_train = pd.concat([X_train, y_train], axis=1)"
   ]
  },
  {
   "cell_type": "code",
   "execution_count": 10,
   "metadata": {
    "scrolled": true
   },
   "outputs": [
    {
     "data": {
      "text/plain": [
       "0    4448085\n",
       "1       5749\n",
       "Name: isFraud, dtype: int64"
      ]
     },
     "execution_count": 10,
     "metadata": {},
     "output_type": "execute_result"
    }
   ],
   "source": [
    "df_train['isFraud'].value_counts()"
   ]
  },
  {
   "cell_type": "markdown",
   "metadata": {},
   "source": [
    "**Under Sampled**"
   ]
  },
  {
   "cell_type": "code",
   "execution_count": 11,
   "metadata": {},
   "outputs": [],
   "source": [
    "from sklearn.utils import resample"
   ]
  },
  {
   "cell_type": "code",
   "execution_count": 12,
   "metadata": {},
   "outputs": [],
   "source": [
    "fraud_no = df_train[df_train['isFraud'] == 0]\n",
    "fraud_yes = df_train[df_train['isFraud'] == 1]\n",
    "\n",
    "fraud_undersample = resample(fraud_no,\n",
    "                           replace=False,\n",
    "                           n_samples = len(fraud_yes),\n",
    "                           random_state = 42)"
   ]
  },
  {
   "cell_type": "code",
   "execution_count": 13,
   "metadata": {},
   "outputs": [
    {
     "data": {
      "text/plain": [
       "1    5749\n",
       "0    5749\n",
       "Name: isFraud, dtype: int64"
      ]
     },
     "execution_count": 13,
     "metadata": {},
     "output_type": "execute_result"
    }
   ],
   "source": [
    "df_UnderSampled = pd.concat([fraud_undersample, fraud_yes])\n",
    "\n",
    "df_UnderSampled['isFraud'].value_counts()"
   ]
  },
  {
   "cell_type": "code",
   "execution_count": 14,
   "metadata": {},
   "outputs": [],
   "source": [
    "df = df_UnderSampled"
   ]
  },
  {
   "cell_type": "markdown",
   "metadata": {},
   "source": [
    "**Machine Learning Preprocessing**"
   ]
  },
  {
   "cell_type": "code",
   "execution_count": 15,
   "metadata": {},
   "outputs": [],
   "source": [
    "X_train = df.drop(columns='isFraud')\n",
    "y_train = df['isFraud']"
   ]
  },
  {
   "cell_type": "markdown",
   "metadata": {},
   "source": [
    "**Machine Learning**"
   ]
  },
  {
   "cell_type": "code",
   "execution_count": 16,
   "metadata": {},
   "outputs": [],
   "source": [
    "from sklearn.pipeline import Pipeline\n",
    "from sklearn.impute import SimpleImputer\n",
    "from sklearn.preprocessing import OneHotEncoder, LabelEncoder, MinMaxScaler, StandardScaler, RobustScaler\n",
    "from sklearn.linear_model import LogisticRegression\n",
    "from sklearn.neighbors import KNeighborsClassifier\n",
    "from sklearn.ensemble import RandomForestClassifier\n",
    "from sklearn.svm import SVC\n",
    "from sklearn.compose import ColumnTransformer\n",
    "from sklearn.metrics import classification_report, confusion_matrix, recall_score, precision_score, f1_score, accuracy_score"
   ]
  },
  {
   "cell_type": "code",
   "execution_count": 17,
   "metadata": {},
   "outputs": [],
   "source": [
    "cat_columns = ['type']\n",
    "\n",
    "num_columns = ['step', 'amount', 'oldbalanceOrg', 'newbalanceOrig', 'oldbalanceDest', 'newbalanceDest', 'balanceDifferenceOrig', 'balanceDifferenceDest', 'isFlaggedFraud']"
   ]
  },
  {
   "cell_type": "code",
   "execution_count": 18,
   "metadata": {},
   "outputs": [],
   "source": [
    "numerical_pipeline = Pipeline([\n",
    "    ('imputer', SimpleImputer(strategy='mean')),\n",
    "    ('scaler', RobustScaler())\n",
    "])\n",
    "\n",
    "\n",
    "categorical_pipeline = Pipeline([\n",
    "    ('imputer', SimpleImputer(strategy='most_frequent')),\n",
    "    ('encoder', OneHotEncoder())\n",
    "])\n",
    "\n",
    "preprocessor = ColumnTransformer([\n",
    "    ('numeric', numerical_pipeline, num_columns),\n",
    "    ('categorical', categorical_pipeline, cat_columns)\n",
    "])"
   ]
  },
  {
   "cell_type": "code",
   "execution_count": 19,
   "metadata": {},
   "outputs": [],
   "source": [
    "pipe_Log = Pipeline([\n",
    "    (\"prep\", preprocessor),\n",
    "    (\"algo\", LogisticRegression())\n",
    "])\n",
    "\n",
    "pipe_KNN = Pipeline([\n",
    "    (\"prep\", preprocessor),\n",
    "    (\"algo\", KNeighborsClassifier())\n",
    "])\n",
    "\n",
    "pipe_RF = Pipeline([\n",
    "    (\"prep\", preprocessor),\n",
    "    (\"algo\", RandomForestClassifier())\n",
    "])\n",
    "\n",
    "pipe_SVC = Pipeline([\n",
    "    (\"prep\", preprocessor),\n",
    "    (\"algo\", SVC(max_iter = 10))\n",
    "])"
   ]
  },
  {
   "cell_type": "code",
   "execution_count": 20,
   "metadata": {},
   "outputs": [
    {
     "data": {
      "text/plain": [
       "Pipeline(steps=[('prep',\n",
       "                 ColumnTransformer(transformers=[('numeric',\n",
       "                                                  Pipeline(steps=[('imputer',\n",
       "                                                                   SimpleImputer()),\n",
       "                                                                  ('scaler',\n",
       "                                                                   RobustScaler())]),\n",
       "                                                  ['step', 'amount',\n",
       "                                                   'oldbalanceOrg',\n",
       "                                                   'newbalanceOrig',\n",
       "                                                   'oldbalanceDest',\n",
       "                                                   'newbalanceDest',\n",
       "                                                   'balanceDifferenceOrig',\n",
       "                                                   'balanceDifferenceDest',\n",
       "                                                   'isFlaggedFraud']),\n",
       "                                                 ('categorical',\n",
       "                                                  Pipeline(steps=[('imputer',\n",
       "                                                                   SimpleImputer(strategy='most_frequent')),\n",
       "                                                                  ('encoder',\n",
       "                                                                   OneHotEncoder())]),\n",
       "                                                  ['type'])])),\n",
       "                ('algo', SVC(max_iter=10))])"
      ]
     },
     "execution_count": 20,
     "metadata": {},
     "output_type": "execute_result"
    }
   ],
   "source": [
    "pipe_Log.fit(X_train, y_train)\n",
    "pipe_KNN.fit(X_train, y_train)\n",
    "pipe_RF.fit(X_train, y_train)\n",
    "pipe_SVC.fit(X_train, y_train)"
   ]
  },
  {
   "cell_type": "code",
   "execution_count": 21,
   "metadata": {},
   "outputs": [],
   "source": [
    "y_pred_Logtr = pipe_Log.predict(X_train)\n",
    "acc_Logtr = accuracy_score(y_train, y_pred_Logtr)\n",
    "prec_Logtr = precision_score(y_train, y_pred_Logtr)\n",
    "rec0_Logtr = recall_score (y_train, y_pred_Logtr, pos_label=0)\n",
    "rec1_Logtr = recall_score(y_train, y_pred_Logtr, pos_label=1)\n",
    "f1_Logtr = f1_score(y_train, y_pred_Logtr)\n",
    "\n",
    "y_pred_KNNtr = pipe_KNN.predict(X_train)\n",
    "acc_KNNtr = accuracy_score(y_train, y_pred_KNNtr)\n",
    "prec_KNNtr = precision_score(y_train, y_pred_KNNtr)\n",
    "rec0_KNNtr = recall_score (y_train, y_pred_KNNtr, pos_label=0)\n",
    "rec1_KNNtr = recall_score(y_train, y_pred_KNNtr, pos_label=1)\n",
    "f1_KNNtr = f1_score(y_train, y_pred_KNNtr)\n",
    "\n",
    "y_pred_RFtr = pipe_RF.predict(X_train)\n",
    "acc_RFtr = accuracy_score(y_train, y_pred_RFtr)\n",
    "prec_RFtr = precision_score(y_train, y_pred_RFtr)\n",
    "rec0_RFtr = recall_score (y_train, y_pred_RFtr, pos_label=0)\n",
    "rec1_RFtr = recall_score(y_train, y_pred_RFtr, pos_label=1)\n",
    "f1_RFtr = f1_score(y_train, y_pred_RFtr)\n",
    "\n",
    "y_pred_SVCtr = pipe_SVC.predict(X_train)\n",
    "acc_SVCtr = accuracy_score(y_train, y_pred_SVCtr)\n",
    "prec_SVCtr = precision_score(y_train, y_pred_SVCtr)\n",
    "rec0_SVCtr = recall_score (y_train, y_pred_SVCtr, pos_label=0)\n",
    "rec1_SVCtr = recall_score(y_train, y_pred_SVCtr, pos_label=1)\n",
    "f1_SVCtr = f1_score(y_train, y_pred_SVCtr)\n",
    "\n",
    "\n",
    "y_pred_Logts = pipe_Log.predict(X_test)\n",
    "acc_Logts = accuracy_score(y_test, y_pred_Logts)\n",
    "prec_Logts = precision_score(y_test, y_pred_Logts)\n",
    "rec0_Logts = recall_score (y_test, y_pred_Logts, pos_label=0)\n",
    "rec1_Logts = recall_score(y_test, y_pred_Logts, pos_label=1)\n",
    "f1_Logts = f1_score(y_test, y_pred_Logts)\n",
    "\n",
    "y_pred_KNNts = pipe_KNN.predict(X_test)\n",
    "acc_KNNts = accuracy_score(y_test, y_pred_KNNts)\n",
    "prec_KNNts = precision_score(y_test, y_pred_KNNts)\n",
    "rec0_KNNts = recall_score (y_test, y_pred_KNNts, pos_label=0)\n",
    "rec1_KNNts = recall_score(y_test, y_pred_KNNts, pos_label=1)\n",
    "f1_KNNts = f1_score(y_test, y_pred_KNNts)\n",
    "\n",
    "y_pred_RFts = pipe_RF.predict(X_test)\n",
    "acc_RFts = accuracy_score(y_test, y_pred_RFts)\n",
    "prec_RFts = precision_score(y_test, y_pred_RFts)\n",
    "rec0_RFts = recall_score (y_test, y_pred_RFts, pos_label=0)\n",
    "rec1_RFts = recall_score(y_test, y_pred_RFts, pos_label=1)\n",
    "f1_RFts = f1_score(y_test, y_pred_RFts)\n",
    "\n",
    "y_pred_SVCts = pipe_SVC.predict(X_test)\n",
    "acc_SVCts = accuracy_score(y_test, y_pred_SVCts)\n",
    "prec_SVCts = precision_score(y_test, y_pred_SVCts)\n",
    "rec0_SVCts = recall_score (y_test, y_pred_SVCts, pos_label=0)\n",
    "rec1_SVCts = recall_score(y_test, y_pred_SVCts, pos_label=1)\n",
    "f1_SVCts = f1_score(y_test, y_pred_SVCts)"
   ]
  },
  {
   "cell_type": "code",
   "execution_count": 22,
   "metadata": {},
   "outputs": [
    {
     "data": {
      "text/html": [
       "<div>\n",
       "<style scoped>\n",
       "    .dataframe tbody tr th:only-of-type {\n",
       "        vertical-align: middle;\n",
       "    }\n",
       "\n",
       "    .dataframe tbody tr th {\n",
       "        vertical-align: top;\n",
       "    }\n",
       "\n",
       "    .dataframe thead th {\n",
       "        text-align: right;\n",
       "    }\n",
       "</style>\n",
       "<table border=\"1\" class=\"dataframe\">\n",
       "  <thead>\n",
       "    <tr style=\"text-align: right;\">\n",
       "      <th></th>\n",
       "      <th>LogReg Train</th>\n",
       "      <th>LogReg Test</th>\n",
       "      <th>KNN Train</th>\n",
       "      <th>KNN Test</th>\n",
       "      <th>RF Train</th>\n",
       "      <th>RF Test</th>\n",
       "      <th>SVC Train</th>\n",
       "      <th>SVC Test</th>\n",
       "    </tr>\n",
       "  </thead>\n",
       "  <tbody>\n",
       "    <tr>\n",
       "      <th>Accuracy</th>\n",
       "      <td>0.799009</td>\n",
       "      <td>0.771946</td>\n",
       "      <td>0.963820</td>\n",
       "      <td>0.962969</td>\n",
       "      <td>1.0</td>\n",
       "      <td>0.989439</td>\n",
       "      <td>0.526352</td>\n",
       "      <td>0.059761</td>\n",
       "    </tr>\n",
       "    <tr>\n",
       "      <th>Precision</th>\n",
       "      <td>0.780059</td>\n",
       "      <td>0.004655</td>\n",
       "      <td>0.974044</td>\n",
       "      <td>0.031983</td>\n",
       "      <td>1.0</td>\n",
       "      <td>0.108258</td>\n",
       "      <td>0.513616</td>\n",
       "      <td>0.001364</td>\n",
       "    </tr>\n",
       "    <tr>\n",
       "      <th>Recall</th>\n",
       "      <td>0.832840</td>\n",
       "      <td>0.825487</td>\n",
       "      <td>0.953035</td>\n",
       "      <td>0.946023</td>\n",
       "      <td>1.0</td>\n",
       "      <td>0.992289</td>\n",
       "      <td>0.994086</td>\n",
       "      <td>0.995130</td>\n",
       "    </tr>\n",
       "    <tr>\n",
       "      <th>F1 Score</th>\n",
       "      <td>0.805586</td>\n",
       "      <td>0.009259</td>\n",
       "      <td>0.963425</td>\n",
       "      <td>0.061875</td>\n",
       "      <td>1.0</td>\n",
       "      <td>0.195217</td>\n",
       "      <td>0.677293</td>\n",
       "      <td>0.002725</td>\n",
       "    </tr>\n",
       "  </tbody>\n",
       "</table>\n",
       "</div>"
      ],
      "text/plain": [
       "           LogReg Train  LogReg Test  KNN Train  KNN Test  RF Train   RF Test  \\\n",
       "Accuracy       0.799009     0.771946   0.963820  0.962969       1.0  0.989439   \n",
       "Precision      0.780059     0.004655   0.974044  0.031983       1.0  0.108258   \n",
       "Recall         0.832840     0.825487   0.953035  0.946023       1.0  0.992289   \n",
       "F1 Score       0.805586     0.009259   0.963425  0.061875       1.0  0.195217   \n",
       "\n",
       "           SVC Train  SVC Test  \n",
       "Accuracy    0.526352  0.059761  \n",
       "Precision   0.513616  0.001364  \n",
       "Recall      0.994086  0.995130  \n",
       "F1 Score    0.677293  0.002725  "
      ]
     },
     "execution_count": 22,
     "metadata": {},
     "output_type": "execute_result"
    }
   ],
   "source": [
    "data = {\n",
    "    \"LogReg Train\" : [acc_Logtr, prec_Logtr, rec1_Logtr, f1_Logtr],\n",
    "    \"LogReg Test\" : [acc_Logts, prec_Logts, rec1_Logts, f1_Logts],\n",
    "    \"KNN Train\" : [acc_KNNtr, prec_KNNtr, rec1_KNNtr, f1_KNNtr],\n",
    "    \"KNN Test\" : [acc_KNNts, prec_KNNts, rec1_KNNts, f1_KNNts],\n",
    "    \"RF Train\" : [acc_RFtr, prec_RFtr, rec1_RFtr, f1_RFtr],\n",
    "    \"RF Test\" : [acc_RFts, prec_RFts, rec1_RFts, f1_RFts],\n",
    "    \"SVC Train\" : [acc_SVCtr, prec_SVCtr, rec1_SVCtr, f1_SVCtr],\n",
    "    \"SVC Test\" : [acc_SVCts, prec_SVCts, rec1_SVCts, f1_SVCts]\n",
    "}\n",
    "pd.DataFrame(data=data, index=['Accuracy', 'Precision', 'Recall', 'F1 Score'])"
   ]
  },
  {
   "cell_type": "markdown",
   "metadata": {},
   "source": [
    "**Hyperparameter Tuning**"
   ]
  },
  {
   "cell_type": "markdown",
   "metadata": {},
   "source": [
    "Parameter"
   ]
  },
  {
   "cell_type": "code",
   "execution_count": 23,
   "metadata": {},
   "outputs": [],
   "source": [
    "Param_Log = {\n",
    "    \"algo__penalty\" : [\"l1\",\"l2\",\"elasticnet\",\"none\"],\n",
    "    \"algo__class_weight\" : [dict, \"balanced\"],\n",
    "    \"algo__max_iter\" : [10,100,500],\n",
    "    \"algo__intercept_scaling\" : [1,5,10]\n",
    "}\n",
    "\n",
    "Param_KNN = {\n",
    "    \"algo__n_neighbors\" : [1,3,5],\n",
    "    \"algo__weights\" : [\"distance\",\"uniform\"],\n",
    "    \"algo__leaf_size\" : [1,5,15]\n",
    "}\n",
    "\n",
    "Param_RF = {\n",
    "    \"algo__n_estimators\" : [50,300],\n",
    "     #\"max_depth\" : [8],\n",
    "     \"algo__min_samples_split\" : [2,5],\n",
    "     \"algo__min_samples_leaf\" : [1,2]\n",
    "}\n",
    "\n",
    "Param_SVC = {\n",
    "    \"algo__max_iter\" : [10,100],\n",
    "    \"algo__kernel\" : ['poly', 'rbf', 'sigmoid']\n",
    "}"
   ]
  },
  {
   "cell_type": "code",
   "execution_count": 24,
   "metadata": {},
   "outputs": [],
   "source": [
    "# pipe_Log.get_params()\n",
    "# pipe_KNN.get_params()\n",
    "# pipe_RF.get_params()\n",
    "# pipe_SVC.get_params()"
   ]
  },
  {
   "cell_type": "code",
   "execution_count": 25,
   "metadata": {},
   "outputs": [],
   "source": [
    "from sklearn.model_selection import GridSearchCV"
   ]
  },
  {
   "cell_type": "markdown",
   "metadata": {},
   "source": [
    "**Logistic Regression Tuning**"
   ]
  },
  {
   "cell_type": "code",
   "execution_count": 26,
   "metadata": {},
   "outputs": [
    {
     "name": "stdout",
     "output_type": "stream",
     "text": [
      "Fitting 3 folds for each of 72 candidates, totalling 216 fits\n"
     ]
    },
    {
     "name": "stderr",
     "output_type": "stream",
     "text": [
      "[Parallel(n_jobs=-1)]: Using backend LokyBackend with 6 concurrent workers.\n",
      "[Parallel(n_jobs=-1)]: Done  38 tasks      | elapsed:    2.2s\n",
      "[Parallel(n_jobs=-1)]: Done 205 out of 216 | elapsed:    3.8s remaining:    0.1s\n",
      "[Parallel(n_jobs=-1)]: Done 216 out of 216 | elapsed:    3.8s finished\n"
     ]
    },
    {
     "name": "stdout",
     "output_type": "stream",
     "text": [
      "Best Score : 0.7984864936063243\n",
      "Tuned recall LogReg Tuned Train :  0.7990085232214298\n",
      "Tuned recall LogReg Tuned Test :  0.7719456240772931\n"
     ]
    }
   ],
   "source": [
    "model_tuned_1 = GridSearchCV(estimator=pipe_Log, param_grid=Param_Log, cv = 3, n_jobs=-1, verbose=1)\n",
    "\n",
    "model_tuned_1.fit(X_train, y_train)\n",
    "model_tuned_1.best_score_\n",
    "model_tuned_1_1 = model_tuned_1.best_estimator_\n",
    "y_tune_1_train = model_tuned_1_1.predict(X_train)\n",
    "y_tune_1_test = model_tuned_1_1.predict(X_test)\n",
    "\n",
    "print('Best Score :',model_tuned_1.best_score_)\n",
    "print('Tuned recall LogReg Tuned Train : ', recall_score(y_train, y_tune_1_train, average=\"weighted\"))\n",
    "print('Tuned recall LogReg Tuned Test : ', recall_score(y_test, y_tune_1_test, average=\"weighted\"))"
   ]
  },
  {
   "cell_type": "markdown",
   "metadata": {},
   "source": [
    "**KNN Tuning**"
   ]
  },
  {
   "cell_type": "code",
   "execution_count": 27,
   "metadata": {},
   "outputs": [
    {
     "name": "stdout",
     "output_type": "stream",
     "text": [
      "Fitting 3 folds for each of 18 candidates, totalling 54 fits\n"
     ]
    },
    {
     "name": "stderr",
     "output_type": "stream",
     "text": [
      "[Parallel(n_jobs=-1)]: Using backend LokyBackend with 6 concurrent workers.\n",
      "[Parallel(n_jobs=-1)]: Done  38 tasks      | elapsed:    1.6s\n",
      "[Parallel(n_jobs=-1)]: Done  54 out of  54 | elapsed:    2.2s finished\n"
     ]
    },
    {
     "name": "stdout",
     "output_type": "stream",
     "text": [
      "Best Score : 0.9471210939464464\n",
      "Tuned recall KNN Tuned Train :  0.9716472429987824\n",
      "Tuned recall KNN Tuned Test :  0.9566452184791799\n"
     ]
    }
   ],
   "source": [
    "model_tuned_2 = GridSearchCV(estimator=pipe_KNN, param_grid=Param_KNN, cv = 3, n_jobs=-1, verbose=1)\n",
    "\n",
    "model_tuned_2.fit(X_train, y_train)\n",
    "model_tuned_2.best_score_\n",
    "model_tuned_2_1 = model_tuned_2.best_estimator_\n",
    "y_tune_2_train = model_tuned_2_1.predict(X_train)\n",
    "y_tune_2_test = model_tuned_2_1.predict(X_test)\n",
    "\n",
    "print('Best Score :',model_tuned_2.best_score_)\n",
    "print('Tuned recall KNN Tuned Train : ', recall_score(y_train, y_tune_2_train, average=\"weighted\"))\n",
    "print('Tuned recall KNN Tuned Test : ', recall_score(y_test, y_tune_2_test, average=\"weighted\"))"
   ]
  },
  {
   "cell_type": "markdown",
   "metadata": {},
   "source": [
    "**Random Forest Tuning**"
   ]
  },
  {
   "cell_type": "code",
   "execution_count": 28,
   "metadata": {},
   "outputs": [
    {
     "name": "stdout",
     "output_type": "stream",
     "text": [
      "Fitting 3 folds for each of 8 candidates, totalling 24 fits\n"
     ]
    },
    {
     "name": "stderr",
     "output_type": "stream",
     "text": [
      "[Parallel(n_jobs=-1)]: Using backend LokyBackend with 6 concurrent workers.\n",
      "[Parallel(n_jobs=-1)]: Done  24 out of  24 | elapsed:    6.1s finished\n"
     ]
    },
    {
     "name": "stdout",
     "output_type": "stream",
     "text": [
      "Best Score : 0.9907810582058421\n",
      "Tuned recall RF Tuned Train :  1.0\n",
      "Tuned recall RF Tuned Test :  0.989909817025062\n"
     ]
    }
   ],
   "source": [
    "model_tuned_3 = GridSearchCV(estimator=pipe_RF, param_grid=Param_RF, cv = 3, n_jobs=-1, verbose=1)\n",
    "\n",
    "model_tuned_3.fit(X_train, y_train)\n",
    "model_tuned_3.best_score_\n",
    "model_tuned_3_1 = model_tuned_3.best_estimator_\n",
    "y_tune_3_train = model_tuned_3_1.predict(X_train)\n",
    "y_tune_3_test = model_tuned_3_1.predict(X_test)\n",
    "\n",
    "print('Best Score :',model_tuned_3.best_score_)\n",
    "print('Tuned recall RF Tuned Train : ', recall_score(y_train, y_tune_3_train, average=\"weighted\"))\n",
    "print('Tuned recall RF Tuned Test : ', recall_score(y_test, y_tune_3_test, average=\"weighted\"))"
   ]
  },
  {
   "cell_type": "markdown",
   "metadata": {},
   "source": [
    "**SVC Tuning**"
   ]
  },
  {
   "cell_type": "code",
   "execution_count": 29,
   "metadata": {},
   "outputs": [
    {
     "name": "stdout",
     "output_type": "stream",
     "text": [
      "Fitting 3 folds for each of 6 candidates, totalling 18 fits\n"
     ]
    },
    {
     "name": "stderr",
     "output_type": "stream",
     "text": [
      "[Parallel(n_jobs=-1)]: Using backend LokyBackend with 6 concurrent workers.\n",
      "[Parallel(n_jobs=-1)]: Done  18 out of  18 | elapsed:    0.3s finished\n"
     ]
    },
    {
     "name": "stdout",
     "output_type": "stream",
     "text": [
      "Best Score : 0.5990609195208224\n",
      "Tuned recall SVC Tuned Train :  0.6144546877717864\n",
      "Tuned recall SVC Tuned Test :  0.25327354664168744\n"
     ]
    }
   ],
   "source": [
    "model_tuned_4 = GridSearchCV(estimator=pipe_SVC, param_grid=Param_SVC, cv = 3, n_jobs=-1, verbose=1)\n",
    "\n",
    "model_tuned_4.fit(X_train, y_train)\n",
    "model_tuned_4.best_score_\n",
    "model_tuned_4_1 = model_tuned_4.best_estimator_\n",
    "y_tune_4_train = model_tuned_4_1.predict(X_train)\n",
    "y_tune_4_test = model_tuned_4_1.predict(X_test)\n",
    "\n",
    "print('Best Score :',model_tuned_4.best_score_)\n",
    "print('Tuned recall SVC Tuned Train : ', recall_score(y_train, y_tune_4_train, average=\"weighted\"))\n",
    "print('Tuned recall SVC Tuned Test : ', recall_score(y_test, y_tune_4_test, average=\"weighted\"))"
   ]
  },
  {
   "cell_type": "markdown",
   "metadata": {},
   "source": [
    "**Evaluation Metrics Tuned**"
   ]
  },
  {
   "cell_type": "code",
   "execution_count": 34,
   "metadata": {},
   "outputs": [],
   "source": [
    "acc_Logtr_tuned = accuracy_score(y_train, y_tune_1_train)\n",
    "prec_Logtr_tuned = precision_score(y_train, y_tune_1_train)\n",
    "rec0_Logtr_tuned = recall_score(y_train, y_tune_1_train, pos_label=0)\n",
    "rec1_Logtr_tuned = recall_score(y_train, y_tune_1_train, pos_label=1)\n",
    "f1_Logtr_tuned = f1_score(y_train, y_tune_1_train)\n",
    "\n",
    "acc_KNNtr_tuned = accuracy_score(y_train, y_tune_2_train)\n",
    "prec_KNNtr_tuned = precision_score(y_train, y_tune_2_train)\n",
    "rec0_KNNtr_tuned = recall_score(y_train, y_tune_2_train, pos_label=0)\n",
    "rec1_KNNtr_tuned = recall_score(y_train, y_tune_2_train, pos_label=1)\n",
    "f1_KNNtr_tuned = f1_score(y_train, y_tune_2_train)\n",
    "\n",
    "acc_RFtr_tuned = accuracy_score(y_train, y_tune_3_train)\n",
    "prec_RFtr_tuned = precision_score(y_train, y_tune_3_train)\n",
    "rec0_RFtr_tuned = recall_score(y_train, y_tune_3_train, pos_label=0)\n",
    "rec1_RFtr_tuned = recall_score(y_train, y_tune_3_train, pos_label=1)\n",
    "f1_RFtr_tuned = f1_score(y_train, y_tune_3_train)\n",
    "\n",
    "acc_SVCtr_tuned = accuracy_score(y_train, y_tune_4_train)\n",
    "prec_SVCtr_tuned = precision_score(y_train, y_tune_4_train)\n",
    "rec0_SVCtr_tuned = recall_score(y_train, y_tune_4_train, pos_label=0)\n",
    "rec1_SVCtr_tuned = recall_score(y_train, y_tune_4_train, pos_label=1)\n",
    "f1_SVCtr_tuned = f1_score(y_train, y_tune_4_train)\n",
    "\n",
    "\n",
    "acc_Logts_tuned = accuracy_score(y_test, y_tune_1_test)\n",
    "prec_Logts_tuned = precision_score(y_test, y_tune_1_test)\n",
    "rec0_Logts_tuned = recall_score(y_test, y_tune_1_test, pos_label=0)\n",
    "rec1_Logts_tuned = recall_score(y_test, y_tune_1_test, pos_label=1)\n",
    "f1_Logts_tuned = f1_score(y_test, y_tune_1_test)\n",
    "\n",
    "acc_KNNts_tuned = accuracy_score(y_test, y_tune_2_test)\n",
    "prec_KNNts_tuned = precision_score(y_test, y_tune_2_test)\n",
    "rec0_KNNts_tuned = recall_score(y_test, y_tune_2_test, pos_label=0)\n",
    "rec1_KNNts_tuned = recall_score(y_test, y_tune_2_test, pos_label=1)\n",
    "f1_KNNts_tuned = f1_score(y_test, y_tune_2_test)\n",
    "\n",
    "acc_RFts_tuned = accuracy_score(y_test, y_tune_3_test)\n",
    "prec_RFts_tuned = precision_score(y_test, y_tune_3_test)\n",
    "rec0_RFts_tuned = recall_score(y_test, y_tune_3_test, pos_label=0)\n",
    "rec1_RFts_tuned = recall_score(y_test, y_tune_3_test, pos_label=1)\n",
    "f1_RFts_tuned = f1_score(y_test, y_tune_3_test)\n",
    "\n",
    "acc_SVCts_tuned = accuracy_score(y_test, y_tune_4_test)\n",
    "prec_SVCts_tuned = precision_score(y_test, y_tune_4_test)\n",
    "rec0_SVCts_tuned = recall_score(y_test, y_tune_4_test, pos_label=0)\n",
    "rec1_SVCts_tuned = recall_score(y_test, y_tune_4_test, pos_label=1)\n",
    "f1_SVCts_tuned = f1_score(y_test, y_tune_4_test)"
   ]
  },
  {
   "cell_type": "code",
   "execution_count": 35,
   "metadata": {},
   "outputs": [
    {
     "data": {
      "text/html": [
       "<div>\n",
       "<style scoped>\n",
       "    .dataframe tbody tr th:only-of-type {\n",
       "        vertical-align: middle;\n",
       "    }\n",
       "\n",
       "    .dataframe tbody tr th {\n",
       "        vertical-align: top;\n",
       "    }\n",
       "\n",
       "    .dataframe thead th {\n",
       "        text-align: right;\n",
       "    }\n",
       "</style>\n",
       "<table border=\"1\" class=\"dataframe\">\n",
       "  <thead>\n",
       "    <tr style=\"text-align: right;\">\n",
       "      <th></th>\n",
       "      <th>LogReg Tuned Train</th>\n",
       "      <th>LogReg Tuned Test</th>\n",
       "      <th>KNN Tuned Train</th>\n",
       "      <th>KNN Tuned Test</th>\n",
       "      <th>RF Tuned Train</th>\n",
       "      <th>RF Tuned Test</th>\n",
       "      <th>SVC Tuned Train</th>\n",
       "      <th>SVC Tuned Test</th>\n",
       "    </tr>\n",
       "  </thead>\n",
       "  <tbody>\n",
       "    <tr>\n",
       "      <th>Accuracy</th>\n",
       "      <td>0.799009</td>\n",
       "      <td>0.771946</td>\n",
       "      <td>0.971647</td>\n",
       "      <td>0.956645</td>\n",
       "      <td>1.0</td>\n",
       "      <td>0.989910</td>\n",
       "      <td>0.614455</td>\n",
       "      <td>0.253274</td>\n",
       "    </tr>\n",
       "    <tr>\n",
       "      <th>Precision</th>\n",
       "      <td>0.780059</td>\n",
       "      <td>0.004655</td>\n",
       "      <td>0.975785</td>\n",
       "      <td>0.027561</td>\n",
       "      <td>1.0</td>\n",
       "      <td>0.112817</td>\n",
       "      <td>0.565708</td>\n",
       "      <td>0.001706</td>\n",
       "    </tr>\n",
       "    <tr>\n",
       "      <th>Recall</th>\n",
       "      <td>0.832840</td>\n",
       "      <td>0.825487</td>\n",
       "      <td>0.967299</td>\n",
       "      <td>0.950487</td>\n",
       "      <td>1.0</td>\n",
       "      <td>0.993101</td>\n",
       "      <td>0.985389</td>\n",
       "      <td>0.988636</td>\n",
       "    </tr>\n",
       "    <tr>\n",
       "      <th>F1 Score</th>\n",
       "      <td>0.805586</td>\n",
       "      <td>0.009259</td>\n",
       "      <td>0.971523</td>\n",
       "      <td>0.053569</td>\n",
       "      <td>1.0</td>\n",
       "      <td>0.202617</td>\n",
       "      <td>0.718772</td>\n",
       "      <td>0.003406</td>\n",
       "    </tr>\n",
       "  </tbody>\n",
       "</table>\n",
       "</div>"
      ],
      "text/plain": [
       "           LogReg Tuned Train  LogReg Tuned Test  KNN Tuned Train  \\\n",
       "Accuracy             0.799009           0.771946         0.971647   \n",
       "Precision            0.780059           0.004655         0.975785   \n",
       "Recall               0.832840           0.825487         0.967299   \n",
       "F1 Score             0.805586           0.009259         0.971523   \n",
       "\n",
       "           KNN Tuned Test  RF Tuned Train  RF Tuned Test  SVC Tuned Train  \\\n",
       "Accuracy         0.956645             1.0       0.989910         0.614455   \n",
       "Precision        0.027561             1.0       0.112817         0.565708   \n",
       "Recall           0.950487             1.0       0.993101         0.985389   \n",
       "F1 Score         0.053569             1.0       0.202617         0.718772   \n",
       "\n",
       "           SVC Tuned Test  \n",
       "Accuracy         0.253274  \n",
       "Precision        0.001706  \n",
       "Recall           0.988636  \n",
       "F1 Score         0.003406  "
      ]
     },
     "execution_count": 35,
     "metadata": {},
     "output_type": "execute_result"
    }
   ],
   "source": [
    "data = {\n",
    "    \"LogReg Tuned Train\" : [acc_Logtr_tuned, prec_Logtr_tuned, rec1_Logtr_tuned, f1_Logtr_tuned],\n",
    "    \"LogReg Tuned Test\" : [acc_Logts_tuned, prec_Logts_tuned, rec1_Logts_tuned, f1_Logts_tuned],\n",
    "    \"KNN Tuned Train\" : [acc_KNNtr_tuned, prec_KNNtr_tuned, rec1_KNNtr_tuned, f1_KNNtr_tuned],\n",
    "    \"KNN Tuned Test\" : [acc_KNNts_tuned, prec_KNNts_tuned, rec1_KNNts_tuned, f1_KNNts_tuned],\n",
    "    \"RF Tuned Train\" : [acc_RFtr_tuned, prec_RFtr_tuned, rec1_RFtr_tuned, f1_RFtr_tuned],\n",
    "    \"RF Tuned Test\" : [acc_RFts_tuned, prec_RFts_tuned, rec1_RFts_tuned, f1_RFts_tuned],\n",
    "    \"SVC Tuned Train\" : [acc_SVCtr_tuned, prec_SVCtr_tuned, rec1_SVCtr_tuned, f1_SVCtr_tuned],\n",
    "    \"SVC Tuned Test\" : [acc_SVCts_tuned, prec_SVCts_tuned, rec1_SVCts_tuned, f1_SVCts_tuned]\n",
    "}\n",
    "pd.DataFrame(data=data, index=['Accuracy', 'Precision', 'Recall', 'F1 Score'])"
   ]
  },
  {
   "cell_type": "markdown",
   "metadata": {},
   "source": [
    "**Confusion Matrix**"
   ]
  },
  {
   "cell_type": "code",
   "execution_count": 36,
   "metadata": {},
   "outputs": [],
   "source": [
    "cmLog = confusion_matrix(y_test, y_tune_1_test, labels=[1, 0])\n",
    "dfLog = pd.DataFrame(data=cmLog, columns=['Prediction 1', 'Prediction 0'], index = ['Actual 1', 'Actual 0'])\n",
    "\n",
    "cmKNN = confusion_matrix(y_test, y_tune_2_test, labels=[1, 0])\n",
    "dfKNN = pd.DataFrame(data=cmKNN, columns=['Prediction 1', 'Prediction 0'], index = ['Actual 1', 'Actual 0'])\n",
    "\n",
    "cmRF = confusion_matrix(y_test, y_tune_3_test, labels=[1, 0])\n",
    "dfRF = pd.DataFrame(data=cmRF, columns=['Prediction 1', 'Prediction 0'], index = ['Actual 1', 'Actual 0'])\n",
    "\n",
    "cmSVC = confusion_matrix(y_test, y_tune_4_test, labels=[1, 0])\n",
    "dfSVC = pd.DataFrame(data=cmSVC, columns=['Prediction 1', 'Prediction 0'], index = ['Actual 1', 'Actual 0'])"
   ]
  },
  {
   "cell_type": "code",
   "execution_count": 37,
   "metadata": {
    "scrolled": false
   },
   "outputs": [
    {
     "data": {
      "image/png": "[encoded data removed]",
      "text/plain": [
       "<Figure size 1296x1296 with 8 Axes>"
      ]
     },
     "metadata": {
      "needs_background": "light"
     },
     "output_type": "display_data"
    }
   ],
   "source": [
    "plt.figure(figsize=(18, 18))\n",
    "\n",
    "plt.subplot(4,4,1)\n",
    "sns.heatmap(dfLog, annot=True)\n",
    "plt.title('Logistic Regression')\n",
    "\n",
    "plt.subplot(4,4,2)\n",
    "sns.heatmap(dfKNN, annot=True)\n",
    "plt.title('K Nearest Neighbor')\n",
    "\n",
    "plt.subplot(4,4,3)\n",
    "sns.heatmap(dfRF, annot=True)\n",
    "plt.title('Random Forest Classifier')\n",
    "\n",
    "plt.subplot(4,4,4)\n",
    "sns.heatmap(dfSVC, annot=True)\n",
    "plt.title('Support Vector Classification')\n",
    "\n",
    "plt.show()"
   ]
  }
 ],
 "metadata": {
  "kernelspec": {
   "display_name": "Python 3",
   "language": "python",
   "name": "python3"
  },
  "language_info": {
   "codemirror_mode": {
    "name": "ipython",
    "version": 3
   },
   "file_extension": ".py",
   "mimetype": "text/x-python",
   "name": "python",
   "nbconvert_exporter": "python",
   "pygments_lexer": "ipython3",
   "version": "3.8.3"
  }
 },
 "nbformat": 4,
 "nbformat_minor": 4
}
